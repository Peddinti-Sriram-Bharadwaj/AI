{
 "cells": [
  {
   "cell_type": "markdown",
   "id": "b3bb3075",
   "metadata": {},
   "source": [
    "# The Machine Learning Landscape"
   ]
  },
  {
   "cell_type": "markdown",
   "id": "8d58f9b4",
   "metadata": {},
   "source": [
    "*The first mainstream ML application is the spam filter.*\n"
   ]
  },
  {
   "cell_type": "markdown",
   "id": "d1c1cfa7",
   "metadata": {},
   "source": [
    "## What is ML"
   ]
  },
  {
   "cell_type": "markdown",
   "id": "7bf6939b",
   "metadata": {},
   "source": [
    "ML is the science of programming computers so they can learn from data. \n",
    "it is the field of study that givers computers the ability to learn without being explicitly programmed.\n",
    "\n",
    "A computer is said to learn from experience E with respect to some task T and some performance measure P, if its performance on T, as measured by P, improves with experience E."
   ]
  },
  {
   "cell_type": "markdown",
   "id": "8ffb346e",
   "metadata": {},
   "source": [
    "<p>flow of traditional approach to a problem</p>\n",
    "<img src=\"../assets/nonml.jpg\" width = '600' style=\"margin:auto\"/>"
   ]
  },
  {
   "cell_type": "markdown",
   "id": "62823b69",
   "metadata": {},
   "source": [
    "<p>flow of ML approach to a problem</p>\n",
    "<img src=\"../assets/ml.jpg\" width = '600' style=\"margin:auto\"/>"
   ]
  },
  {
   "cell_type": "markdown",
   "id": "38d2998c",
   "metadata": {},
   "source": [
    "<p>Adaptivity of an ML solution\n",
    "</p>\n",
    " <img src=\"../assets/ml_adaptivity.jpg\" width = '600' style=\"margin:auto\"/>"
   ]
  },
  {
   "cell_type": "markdown",
   "id": "8fa44970",
   "metadata": {},
   "source": [
    "ML also shines for problems that are either too comples or have no known algorithms to solve them. ex:- speech recognition, image recognition."
   ]
  },
  {
   "cell_type": "markdown",
   "id": "0cc8e64c",
   "metadata": {},
   "source": [
    "<p>How ML helps humans</p>\n",
    "<img src=\"../assets/ml_human_help.jpg\" width = '600' style=\"margin:auto\"/>"
   ]
  },
  {
   "cell_type": "markdown",
   "id": "00ab0197",
   "metadata": {},
   "source": [
    "By inspecting what a machine has learned, we humans can learn not-known-before insights from it as well. This is called data mining."
   ]
  },
  {
   "cell_type": "markdown",
   "id": "fcad5f59",
   "metadata": {},
   "source": [
    "## Tasks that ML is suitable for"
   ]
  },
  {
   "cell_type": "markdown",
   "id": "adeb8874",
   "metadata": {},
   "source": [
    "+ problems for which existing solutions require a lot of fine-tuning or long lists of rules\n",
    "+ complex problem s for which using a traditional apprach yields no good solution\n",
    "+ Fluctuating environments \n",
    "+ Getting insights about complex problems and large amounts of data"
   ]
  },
  {
   "cell_type": "markdown",
   "id": "c44e9083",
   "metadata": {},
   "source": [
    "## Types of ML systems\n",
    "\n",
    "+ How they are supervised during training\n",
    "+ can they learn incrementally on the fly\n",
    "+ Do they work by comparing new data points to known data points or instead by detecting patterns in training data and building a predictive model."
   ]
  }
 ],
 "metadata": {
  "kernelspec": {
   "display_name": "Python 3 (ipykernel)",
   "language": "python",
   "name": "python3"
  },
  "language_info": {
   "codemirror_mode": {
    "name": "ipython",
    "version": 3
   },
   "file_extension": ".py",
   "mimetype": "text/x-python",
   "name": "python",
   "nbconvert_exporter": "python",
   "pygments_lexer": "ipython3",
   "version": "3.11.2"
  }
 },
 "nbformat": 4,
 "nbformat_minor": 5
}
